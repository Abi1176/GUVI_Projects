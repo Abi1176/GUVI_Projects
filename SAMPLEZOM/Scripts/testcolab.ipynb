{
 "cells": [
  {
   "cell_type": "code",
   "execution_count": 38,
   "metadata": {},
   "outputs": [
    {
     "name": "stdout",
     "output_type": "stream",
     "text": [
      "DB Connection Successful!\n"
     ]
    }
   ],
   "source": [
    "import streamlit as st\n",
    "import mysql.connector\n",
    "from faker import Faker\n",
    "import random\n",
    "\n",
    "# Initialize Faker\n",
    "fake = Faker()\n",
    "\n",
    "\n",
    "class mySqlDBclass:\n",
    "    def __init__(self,host,user,password,port,database):\n",
    "      self.host=host\n",
    "      self.user=user\n",
    "      self.password=password\n",
    "      self.port=port\n",
    "      self.database=database\n",
    "      self.conn=None\n",
    "      self.cursor=None\n",
    "      self.connect()\n",
    "    def connect(self):\n",
    "      self.conn=mysql.connector.connect(host=self.host,user=self.user,password=self.password,port=self.port,database=self.database)\n",
    "      self.cursor=self.conn.cursor()\n",
    "      print(\"DB Connection Successful!\")\n",
    "    def disconnect(self):\n",
    "      if self.cursor:\n",
    "        self.cursor.close()\n",
    "        print(\"DB Connection Closed!\")\n",
    "    def Execute_Query(self,table_query):\n",
    "      self.cursor.execute(table_query)\n",
    "      self.conn.commit()\n",
    "      print(f\"Query Executed Successfully!\")\n",
    "    def insert_Values(self,insert_query,insertValues):\n",
    "      self.cursor.executemany(insert_query,insertValues)\n",
    "      self.conn.commit()\n",
    "      print(f\"Inserted Successfully!\")\n",
    "\n",
    "#initialize db config\n",
    "config = {\"host\":\"gateway01.ap-southeast-1.prod.aws.tidbcloud.com\", \"user\":\"2B9qSGSxQso7gBp.root\", \"port\":4000, \"password\":\"nLUDS0fz3HRQatbm\", \"database\":\"SAMPLEZOM\"}\n",
    "db_obj = mySqlDBclass(**config)\n",
    "\n",
    "\n",
    "\n"
   ]
  },
  {
   "cell_type": "code",
   "execution_count": null,
   "metadata": {},
   "outputs": [
    {
     "name": "stdout",
     "output_type": "stream",
     "text": [
      "Table Created Successfully!\n"
     ]
    }
   ],
   "source": [
    "TQ = \"create table if not exists emp_table (id int auto_increment primary key, name varchar(100), phone_number varchar(15),email varchar(200))\"\n",
    "db_obj.Execute_Query(TQ)"
   ]
  },
  {
   "cell_type": "code",
   "execution_count": 28,
   "metadata": {},
   "outputs": [],
   "source": [
    "Emp_table = []\n",
    "for i in range(1,100):\n",
    "  Emp_table.append((fake.name(),fake.unique.phone_number(), fake.unique.email()))"
   ]
  },
  {
   "cell_type": "code",
   "execution_count": 42,
   "metadata": {},
   "outputs": [],
   "source": [
    "fake = Faker([\"en_IN\"])"
   ]
  },
  {
   "cell_type": "code",
   "execution_count": 47,
   "metadata": {},
   "outputs": [
    {
     "ename": "ProgrammingError",
     "evalue": "1054 (42S22): Unknown column 'location' in 'emp_table'",
     "output_type": "error",
     "traceback": [
      "\u001b[1;31m---------------------------------------------------------------------------\u001b[0m",
      "\u001b[1;31mMySQLInterfaceError\u001b[0m                       Traceback (most recent call last)",
      "File \u001b[1;32md:\\Sample_Projects\\Sample_Zom\\SAMPLEZOM\\Lib\\site-packages\\mysql\\connector\\connection_cext.py:755\u001b[0m, in \u001b[0;36mCMySQLConnection.cmd_query\u001b[1;34m(self, query, raw, buffered, raw_as_string, **kwargs)\u001b[0m\n\u001b[0;32m    754\u001b[0m         query \u001b[38;5;241m=\u001b[39m query\u001b[38;5;241m.\u001b[39mencode(\u001b[38;5;124m\"\u001b[39m\u001b[38;5;124mutf-8\u001b[39m\u001b[38;5;124m\"\u001b[39m)\n\u001b[1;32m--> 755\u001b[0m     \u001b[38;5;28;43mself\u001b[39;49m\u001b[38;5;241;43m.\u001b[39;49m\u001b[43m_cmysql\u001b[49m\u001b[38;5;241;43m.\u001b[39;49m\u001b[43mquery\u001b[49m\u001b[43m(\u001b[49m\n\u001b[0;32m    756\u001b[0m \u001b[43m        \u001b[49m\u001b[43mquery\u001b[49m\u001b[43m,\u001b[49m\n\u001b[0;32m    757\u001b[0m \u001b[43m        \u001b[49m\u001b[43mraw\u001b[49m\u001b[38;5;241;43m=\u001b[39;49m\u001b[43mraw\u001b[49m\u001b[43m,\u001b[49m\n\u001b[0;32m    758\u001b[0m \u001b[43m        \u001b[49m\u001b[43mbuffered\u001b[49m\u001b[38;5;241;43m=\u001b[39;49m\u001b[43mbuffered\u001b[49m\u001b[43m,\u001b[49m\n\u001b[0;32m    759\u001b[0m \u001b[43m        \u001b[49m\u001b[43mraw_as_string\u001b[49m\u001b[38;5;241;43m=\u001b[39;49m\u001b[43mraw_as_string\u001b[49m\u001b[43m,\u001b[49m\n\u001b[0;32m    760\u001b[0m \u001b[43m        \u001b[49m\u001b[43mquery_attrs\u001b[49m\u001b[38;5;241;43m=\u001b[39;49m\u001b[38;5;28;43mself\u001b[39;49m\u001b[38;5;241;43m.\u001b[39;49m\u001b[43mquery_attrs\u001b[49m\u001b[43m,\u001b[49m\n\u001b[0;32m    761\u001b[0m \u001b[43m    \u001b[49m\u001b[43m)\u001b[49m\n\u001b[0;32m    762\u001b[0m \u001b[38;5;28;01mexcept\u001b[39;00m MySQLInterfaceError \u001b[38;5;28;01mas\u001b[39;00m err:\n",
      "\u001b[1;31mMySQLInterfaceError\u001b[0m: Unknown column 'location' in 'emp_table'",
      "\nThe above exception was the direct cause of the following exception:\n",
      "\u001b[1;31mProgrammingError\u001b[0m                          Traceback (most recent call last)",
      "Cell \u001b[1;32mIn[47], line 8\u001b[0m\n\u001b[0;32m      1\u001b[0m IQ \u001b[38;5;241m=\u001b[39m \u001b[38;5;124m\"\"\"\u001b[39m\u001b[38;5;124mALTER TABLE `SAMPLEZOM`.`emp_table`\u001b[39m\n\u001b[0;32m      2\u001b[0m \u001b[38;5;124mADD COLUMN `location` TEXT NULL AFTER `phone`,\u001b[39m\n\u001b[0;32m      3\u001b[0m \u001b[38;5;124mADD COLUMN `signup_date` DATETIME NULL AFTER `location`,\u001b[39m\n\u001b[1;32m   (...)\u001b[0m\n\u001b[0;32m      6\u001b[0m \u001b[38;5;124mADD COLUMN `total_orders` INT(11) NULL DEFAULT \u001b[39m\u001b[38;5;124m'\u001b[39m\u001b[38;5;124m0\u001b[39m\u001b[38;5;124m'\u001b[39m\u001b[38;5;124m AFTER `preferred_cuisine`,\u001b[39m\n\u001b[0;32m      7\u001b[0m \u001b[38;5;124mADD COLUMN `average_rating` DECIMAL(3,2) NULL DEFAULT NULL AFTER `total_orders`;\u001b[39m\u001b[38;5;124m\"\"\"\u001b[39m\n\u001b[1;32m----> 8\u001b[0m \u001b[43mdb_obj\u001b[49m\u001b[38;5;241;43m.\u001b[39;49m\u001b[43mExecute_Query\u001b[49m\u001b[43m(\u001b[49m\u001b[43mIQ\u001b[49m\u001b[43m)\u001b[49m\n",
      "Cell \u001b[1;32mIn[38], line 29\u001b[0m, in \u001b[0;36mmySqlDBclass.Execute_Query\u001b[1;34m(self, table_query)\u001b[0m\n\u001b[0;32m     28\u001b[0m \u001b[38;5;28;01mdef\u001b[39;00m\u001b[38;5;250m \u001b[39m\u001b[38;5;21mExecute_Query\u001b[39m(\u001b[38;5;28mself\u001b[39m,table_query):\n\u001b[1;32m---> 29\u001b[0m   \u001b[38;5;28;43mself\u001b[39;49m\u001b[38;5;241;43m.\u001b[39;49m\u001b[43mcursor\u001b[49m\u001b[38;5;241;43m.\u001b[39;49m\u001b[43mexecute\u001b[49m\u001b[43m(\u001b[49m\u001b[43mtable_query\u001b[49m\u001b[43m)\u001b[49m\n\u001b[0;32m     30\u001b[0m   \u001b[38;5;28mself\u001b[39m\u001b[38;5;241m.\u001b[39mconn\u001b[38;5;241m.\u001b[39mcommit()\n\u001b[0;32m     31\u001b[0m   \u001b[38;5;28mprint\u001b[39m(\u001b[38;5;124mf\u001b[39m\u001b[38;5;124m\"\u001b[39m\u001b[38;5;124mQuery Executed Successfully!\u001b[39m\u001b[38;5;124m\"\u001b[39m)\n",
      "File \u001b[1;32md:\\Sample_Projects\\Sample_Zom\\SAMPLEZOM\\Lib\\site-packages\\mysql\\connector\\cursor_cext.py:351\u001b[0m, in \u001b[0;36mCMySQLCursor.execute\u001b[1;34m(self, operation, params, map_results)\u001b[0m\n\u001b[0;32m    343\u001b[0m \u001b[38;5;28mself\u001b[39m\u001b[38;5;241m.\u001b[39m_executed \u001b[38;5;241m=\u001b[39m (\n\u001b[0;32m    344\u001b[0m     \u001b[38;5;28mself\u001b[39m\u001b[38;5;241m.\u001b[39m_stmt_partition[\u001b[38;5;124m\"\u001b[39m\u001b[38;5;124msingle_stmts\u001b[39m\u001b[38;5;124m\"\u001b[39m]\u001b[38;5;241m.\u001b[39mpopleft()\n\u001b[0;32m    345\u001b[0m     \u001b[38;5;28;01mif\u001b[39;00m map_results\n\u001b[0;32m    346\u001b[0m     \u001b[38;5;28;01melse\u001b[39;00m \u001b[38;5;28mself\u001b[39m\u001b[38;5;241m.\u001b[39m_stmt_partition[\u001b[38;5;124m\"\u001b[39m\u001b[38;5;124mmappable_stmt\u001b[39m\u001b[38;5;124m\"\u001b[39m]\n\u001b[0;32m    347\u001b[0m )\n\u001b[0;32m    349\u001b[0m \u001b[38;5;28;01mtry\u001b[39;00m:\n\u001b[0;32m    350\u001b[0m     \u001b[38;5;28mself\u001b[39m\u001b[38;5;241m.\u001b[39m_handle_result(\n\u001b[1;32m--> 351\u001b[0m         \u001b[38;5;28;43mself\u001b[39;49m\u001b[38;5;241;43m.\u001b[39;49m\u001b[43m_connection\u001b[49m\u001b[38;5;241;43m.\u001b[39;49m\u001b[43mcmd_query\u001b[49m\u001b[43m(\u001b[49m\n\u001b[0;32m    352\u001b[0m \u001b[43m            \u001b[49m\u001b[38;5;28;43mself\u001b[39;49m\u001b[38;5;241;43m.\u001b[39;49m\u001b[43m_stmt_partition\u001b[49m\u001b[43m[\u001b[49m\u001b[38;5;124;43m\"\u001b[39;49m\u001b[38;5;124;43mmappable_stmt\u001b[39;49m\u001b[38;5;124;43m\"\u001b[39;49m\u001b[43m]\u001b[49m\u001b[43m,\u001b[49m\n\u001b[0;32m    353\u001b[0m \u001b[43m            \u001b[49m\u001b[43mraw\u001b[49m\u001b[38;5;241;43m=\u001b[39;49m\u001b[38;5;28;43mself\u001b[39;49m\u001b[38;5;241;43m.\u001b[39;49m\u001b[43m_raw\u001b[49m\u001b[43m,\u001b[49m\n\u001b[0;32m    354\u001b[0m \u001b[43m            \u001b[49m\u001b[43mbuffered\u001b[49m\u001b[38;5;241;43m=\u001b[39;49m\u001b[38;5;28;43mself\u001b[39;49m\u001b[38;5;241;43m.\u001b[39;49m\u001b[43m_buffered\u001b[49m\u001b[43m,\u001b[49m\n\u001b[0;32m    355\u001b[0m \u001b[43m            \u001b[49m\u001b[43mraw_as_string\u001b[49m\u001b[38;5;241;43m=\u001b[39;49m\u001b[38;5;28;43mself\u001b[39;49m\u001b[38;5;241;43m.\u001b[39;49m\u001b[43m_raw_as_string\u001b[49m\u001b[43m,\u001b[49m\n\u001b[0;32m    356\u001b[0m \u001b[43m        \u001b[49m\u001b[43m)\u001b[49m\n\u001b[0;32m    357\u001b[0m     )\n\u001b[0;32m    358\u001b[0m \u001b[38;5;28;01mexcept\u001b[39;00m MySQLInterfaceError \u001b[38;5;28;01mas\u001b[39;00m err:\n\u001b[0;32m    359\u001b[0m     \u001b[38;5;28;01mraise\u001b[39;00m get_mysql_exception(\n\u001b[0;32m    360\u001b[0m         msg\u001b[38;5;241m=\u001b[39merr\u001b[38;5;241m.\u001b[39mmsg, errno\u001b[38;5;241m=\u001b[39merr\u001b[38;5;241m.\u001b[39merrno, sqlstate\u001b[38;5;241m=\u001b[39merr\u001b[38;5;241m.\u001b[39msqlstate\n\u001b[0;32m    361\u001b[0m     ) \u001b[38;5;28;01mfrom\u001b[39;00m\u001b[38;5;250m \u001b[39m\u001b[38;5;21;01merr\u001b[39;00m\n",
      "File \u001b[1;32md:\\Sample_Projects\\Sample_Zom\\SAMPLEZOM\\Lib\\site-packages\\mysql\\connector\\opentelemetry\\context_propagation.py:97\u001b[0m, in \u001b[0;36mwith_context_propagation.<locals>.wrapper\u001b[1;34m(cnx, *args, **kwargs)\u001b[0m\n\u001b[0;32m     95\u001b[0m \u001b[38;5;66;03m# pylint: disable=possibly-used-before-assignment\u001b[39;00m\n\u001b[0;32m     96\u001b[0m \u001b[38;5;28;01mif\u001b[39;00m \u001b[38;5;129;01mnot\u001b[39;00m OTEL_ENABLED \u001b[38;5;129;01mor\u001b[39;00m \u001b[38;5;129;01mnot\u001b[39;00m cnx\u001b[38;5;241m.\u001b[39motel_context_propagation:\n\u001b[1;32m---> 97\u001b[0m     \u001b[38;5;28;01mreturn\u001b[39;00m \u001b[43mmethod\u001b[49m\u001b[43m(\u001b[49m\u001b[43mcnx\u001b[49m\u001b[43m,\u001b[49m\u001b[43m \u001b[49m\u001b[38;5;241;43m*\u001b[39;49m\u001b[43margs\u001b[49m\u001b[43m,\u001b[49m\u001b[43m \u001b[49m\u001b[38;5;241;43m*\u001b[39;49m\u001b[38;5;241;43m*\u001b[39;49m\u001b[43mkwargs\u001b[49m\u001b[43m)\u001b[49m\n\u001b[0;32m     99\u001b[0m current_span \u001b[38;5;241m=\u001b[39m trace\u001b[38;5;241m.\u001b[39mget_current_span()\n\u001b[0;32m    100\u001b[0m tp_header \u001b[38;5;241m=\u001b[39m \u001b[38;5;28;01mNone\u001b[39;00m\n",
      "File \u001b[1;32md:\\Sample_Projects\\Sample_Zom\\SAMPLEZOM\\Lib\\site-packages\\mysql\\connector\\connection_cext.py:763\u001b[0m, in \u001b[0;36mCMySQLConnection.cmd_query\u001b[1;34m(self, query, raw, buffered, raw_as_string, **kwargs)\u001b[0m\n\u001b[0;32m    755\u001b[0m     \u001b[38;5;28mself\u001b[39m\u001b[38;5;241m.\u001b[39m_cmysql\u001b[38;5;241m.\u001b[39mquery(\n\u001b[0;32m    756\u001b[0m         query,\n\u001b[0;32m    757\u001b[0m         raw\u001b[38;5;241m=\u001b[39mraw,\n\u001b[1;32m   (...)\u001b[0m\n\u001b[0;32m    760\u001b[0m         query_attrs\u001b[38;5;241m=\u001b[39m\u001b[38;5;28mself\u001b[39m\u001b[38;5;241m.\u001b[39mquery_attrs,\n\u001b[0;32m    761\u001b[0m     )\n\u001b[0;32m    762\u001b[0m \u001b[38;5;28;01mexcept\u001b[39;00m MySQLInterfaceError \u001b[38;5;28;01mas\u001b[39;00m err:\n\u001b[1;32m--> 763\u001b[0m     \u001b[38;5;28;01mraise\u001b[39;00m get_mysql_exception(\n\u001b[0;32m    764\u001b[0m         err\u001b[38;5;241m.\u001b[39merrno, msg\u001b[38;5;241m=\u001b[39merr\u001b[38;5;241m.\u001b[39mmsg, sqlstate\u001b[38;5;241m=\u001b[39merr\u001b[38;5;241m.\u001b[39msqlstate\n\u001b[0;32m    765\u001b[0m     ) \u001b[38;5;28;01mfrom\u001b[39;00m\u001b[38;5;250m \u001b[39m\u001b[38;5;21;01merr\u001b[39;00m\n\u001b[0;32m    766\u001b[0m \u001b[38;5;28;01mexcept\u001b[39;00m \u001b[38;5;167;01mAttributeError\u001b[39;00m \u001b[38;5;28;01mas\u001b[39;00m err:\n\u001b[0;32m    767\u001b[0m     addr \u001b[38;5;241m=\u001b[39m (\n\u001b[0;32m    768\u001b[0m         \u001b[38;5;28mself\u001b[39m\u001b[38;5;241m.\u001b[39m_unix_socket \u001b[38;5;28;01mif\u001b[39;00m \u001b[38;5;28mself\u001b[39m\u001b[38;5;241m.\u001b[39m_unix_socket \u001b[38;5;28;01melse\u001b[39;00m \u001b[38;5;124mf\u001b[39m\u001b[38;5;124m\"\u001b[39m\u001b[38;5;132;01m{\u001b[39;00m\u001b[38;5;28mself\u001b[39m\u001b[38;5;241m.\u001b[39m_host\u001b[38;5;132;01m}\u001b[39;00m\u001b[38;5;124m:\u001b[39m\u001b[38;5;132;01m{\u001b[39;00m\u001b[38;5;28mself\u001b[39m\u001b[38;5;241m.\u001b[39m_port\u001b[38;5;132;01m}\u001b[39;00m\u001b[38;5;124m\"\u001b[39m\n\u001b[0;32m    769\u001b[0m     )\n",
      "\u001b[1;31mProgrammingError\u001b[0m: 1054 (42S22): Unknown column 'location' in 'emp_table'"
     ]
    }
   ],
   "source": [
    "IQ = \"\"\"ALTER TABLE `SAMPLEZOM`.`emp_table`\n",
    "ADD COLUMN `location` TEXT NULL AFTER `phone`,\n",
    "ADD COLUMN `signup_date` DATETIME NULL AFTER `location`,\n",
    "ADD COLUMN `is_premium` TINYINT(1) NULL DEFAULT '0' AFTER `signup_date`,\n",
    "ADD COLUMN `preferred_cuisine` VARCHAR(100) NULL DEFAULT NULL AFTER `is_premium`,\n",
    "ADD COLUMN `total_orders` INT(11) NULL DEFAULT '0' AFTER `preferred_cuisine`,\n",
    "ADD COLUMN `average_rating` DECIMAL(3,2) NULL DEFAULT NULL AFTER `total_orders`;\"\"\"\n",
    "db_obj.Execute_Query(IQ)"
   ]
  },
  {
   "cell_type": "code",
   "execution_count": 48,
   "metadata": {},
   "outputs": [
    {
     "data": {
      "text/plain": [
       "'439, Virk Marg\\nAligarh-119562'"
      ]
     },
     "execution_count": 48,
     "metadata": {},
     "output_type": "execute_result"
    }
   ],
   "source": [
    "fake.address()"
   ]
  },
  {
   "cell_type": "code",
   "execution_count": 50,
   "metadata": {},
   "outputs": [
    {
     "name": "stdout",
     "output_type": "stream",
     "text": [
      "Sinha Ganj, Adyar, Chennai, Tamil Nadu, India - 143483\n",
      "Nagar Nagar, Mylapore, Chennai, Tamil Nadu, India - 852151\n",
      "Bose Nagar, Chrompet, Chennai, Tamil Nadu, India - 010788\n",
      "Jhaveri Path, Velachery, Chennai, Tamil Nadu, India - 227427\n",
      "Devan Street, Adyar, Chennai, Tamil Nadu, India - 692466\n",
      "Krishna Nagar, Kodambakkam, Chennai, Tamil Nadu, India - 659961\n",
      "Shanker Path, Velachery, Chennai, Tamil Nadu, India - 689493\n",
      "Iyer Circle, Adyar, Chennai, Tamil Nadu, India - 694461\n",
      "Bail Road, Nungambakkam, Chennai, Tamil Nadu, India - 578790\n",
      "Bhandari Ganj, Mylapore, Chennai, Tamil Nadu, India - 615104\n",
      "Dalal, Velachery, Chennai, Tamil Nadu, India - 380071\n",
      "Naidu Circle, Nungambakkam, Chennai, Tamil Nadu, India - 796572\n",
      "Kothari Ganj, Kodambakkam, Chennai, Tamil Nadu, India - 709855\n",
      "Sood Nagar, Kilpauk, Chennai, Tamil Nadu, India - 399139\n",
      "Muni Road, Guindy, Chennai, Tamil Nadu, India - 545124\n",
      "Gara Path, Guindy, Chennai, Tamil Nadu, India - 903689\n",
      "Lall Road, Velachery, Chennai, Tamil Nadu, India - 442770\n",
      "Singh Road, Anna Nagar, Chennai, Tamil Nadu, India - 623209\n",
      "Ramakrishnan Ganj, Chrompet, Chennai, Tamil Nadu, India - 845675\n",
      "Varma Marg, Nungambakkam, Chennai, Tamil Nadu, India - 170348\n",
      "Mammen, Tambaram, Chennai, Tamil Nadu, India - 772773\n",
      "Sarkar Circle, Perungudi, Chennai, Tamil Nadu, India - 782263\n",
      "Mander Path, Guindy, Chennai, Tamil Nadu, India - 078776\n",
      "Hora Nagar, Tambaram, Chennai, Tamil Nadu, India - 460588\n",
      "Bajaj Road, Nungambakkam, Chennai, Tamil Nadu, India - 187137\n",
      "Prabhakar, Kilpauk, Chennai, Tamil Nadu, India - 738355\n",
      "Palla Nagar, Nungambakkam, Chennai, Tamil Nadu, India - 958401\n",
      "Oommen Road, Kodambakkam, Chennai, Tamil Nadu, India - 560590\n",
      "Rege Chowk, Kodambakkam, Chennai, Tamil Nadu, India - 156139\n",
      "Mand Zila, Adyar, Chennai, Tamil Nadu, India - 989690\n",
      "Chaudhry Zila, Mylapore, Chennai, Tamil Nadu, India - 228511\n",
      "Brahmbhatt Path, Adyar, Chennai, Tamil Nadu, India - 329414\n",
      "Chawla Circle, Chrompet, Chennai, Tamil Nadu, India - 822202\n",
      "Handa Chowk, Guindy, Chennai, Tamil Nadu, India - 322420\n",
      "Rajan Path, Mylapore, Chennai, Tamil Nadu, India - 331387\n",
      "Bahl Road, Nungambakkam, Chennai, Tamil Nadu, India - 074237\n",
      "Wali Chowk, Chrompet, Chennai, Tamil Nadu, India - 544623\n",
      "Mane Road, Adyar, Chennai, Tamil Nadu, India - 994517\n",
      "Dugar Marg, Chrompet, Chennai, Tamil Nadu, India - 174361\n",
      "Kalita Ganj, Kodambakkam, Chennai, Tamil Nadu, India - 955325\n",
      "Dass Road, Mylapore, Chennai, Tamil Nadu, India - 084011\n",
      "Arya Ganj, Kodambakkam, Chennai, Tamil Nadu, India - 919280\n",
      "Butala Street, Velachery, Chennai, Tamil Nadu, India - 235973\n",
      "Nadig Marg, Kilpauk, Chennai, Tamil Nadu, India - 825737\n",
      "Sangha Road, Nungambakkam, Chennai, Tamil Nadu, India - 756180\n",
      "Sahni Street, Chrompet, Chennai, Tamil Nadu, India - 926823\n",
      "Pai Marg, Kodambakkam, Chennai, Tamil Nadu, India - 268843\n",
      "Pradhan Path, Chrompet, Chennai, Tamil Nadu, India - 625460\n",
      "Prashad Zila, Kodambakkam, Chennai, Tamil Nadu, India - 322152\n",
      "Iyer Nagar, Kodambakkam, Chennai, Tamil Nadu, India - 927483\n",
      "Kar Nagar, Nungambakkam, Chennai, Tamil Nadu, India - 744616\n",
      "Hari Circle, Tambaram, Chennai, Tamil Nadu, India - 609221\n",
      "Bandi Chowk, Guindy, Chennai, Tamil Nadu, India - 921614\n",
      "Tank Street, Nungambakkam, Chennai, Tamil Nadu, India - 994202\n",
      "Munshi Circle, Kilpauk, Chennai, Tamil Nadu, India - 579182\n",
      "Mand Path, Anna Nagar, Chennai, Tamil Nadu, India - 783064\n",
      "Bhatia Chowk, Kilpauk, Chennai, Tamil Nadu, India - 689625\n",
      "Prabhu, Mylapore, Chennai, Tamil Nadu, India - 605609\n",
      "Dayal, Perungudi, Chennai, Tamil Nadu, India - 292326\n",
      "Dewan Path, Kilpauk, Chennai, Tamil Nadu, India - 337082\n",
      "Prakash Ganj, T. Nagar, Chennai, Tamil Nadu, India - 791314\n",
      "Rattan Street, Perungudi, Chennai, Tamil Nadu, India - 563061\n",
      "Issac Chowk, Chrompet, Chennai, Tamil Nadu, India - 039287\n",
      "Tank, Kodambakkam, Chennai, Tamil Nadu, India - 924536\n",
      "Talwar Marg, Perungudi, Chennai, Tamil Nadu, India - 556688\n",
      "Bhatia Zila, Mylapore, Chennai, Tamil Nadu, India - 874089\n",
      "Mishra Road, Chrompet, Chennai, Tamil Nadu, India - 422250\n",
      "Dugal Street, Mylapore, Chennai, Tamil Nadu, India - 796191\n",
      "Borde Nagar, Adyar, Chennai, Tamil Nadu, India - 155064\n",
      "Char Ganj, Guindy, Chennai, Tamil Nadu, India - 319531\n",
      "Date, Kilpauk, Chennai, Tamil Nadu, India - 680313\n",
      "Ramachandran Circle, Perungudi, Chennai, Tamil Nadu, India - 108590\n",
      "Venkataraman Circle, Chrompet, Chennai, Tamil Nadu, India - 634899\n",
      "Gala Circle, Guindy, Chennai, Tamil Nadu, India - 179030\n",
      "Setty Street, Kodambakkam, Chennai, Tamil Nadu, India - 574870\n",
      "Buch Street, T. Nagar, Chennai, Tamil Nadu, India - 114775\n",
      "Goswami Road, Velachery, Chennai, Tamil Nadu, India - 487450\n",
      "Kakar Marg, T. Nagar, Chennai, Tamil Nadu, India - 532279\n",
      "Rama Nagar, Adyar, Chennai, Tamil Nadu, India - 034620\n",
      "Deo Circle, Perungudi, Chennai, Tamil Nadu, India - 524593\n",
      "Oza Nagar, Velachery, Chennai, Tamil Nadu, India - 592682\n",
      "Bahri Chowk, Guindy, Chennai, Tamil Nadu, India - 544975\n",
      "Bala Zila, Mylapore, Chennai, Tamil Nadu, India - 044711\n",
      "Sankaran Marg, Mylapore, Chennai, Tamil Nadu, India - 090725\n",
      "Contractor Circle, Anna Nagar, Chennai, Tamil Nadu, India - 305797\n",
      "Datta Path, Velachery, Chennai, Tamil Nadu, India - 176626\n",
      "Setty Path, Guindy, Chennai, Tamil Nadu, India - 269682\n",
      "Kannan Road, Kilpauk, Chennai, Tamil Nadu, India - 062397\n",
      "Dhar Ganj, Nungambakkam, Chennai, Tamil Nadu, India - 490632\n",
      "Bava Chowk, Adyar, Chennai, Tamil Nadu, India - 513765\n",
      "Bhardwaj, Kodambakkam, Chennai, Tamil Nadu, India - 001579\n",
      "Mohan, T. Nagar, Chennai, Tamil Nadu, India - 189283\n",
      "Sankar Circle, Perungudi, Chennai, Tamil Nadu, India - 669687\n",
      "Lad, Nungambakkam, Chennai, Tamil Nadu, India - 682265\n",
      "Sankaran Path, Velachery, Chennai, Tamil Nadu, India - 177575\n",
      "Seth Ganj, Guindy, Chennai, Tamil Nadu, India - 195900\n",
      "Chakraborty Road, Perungudi, Chennai, Tamil Nadu, India - 447431\n",
      "Walia Street, Mylapore, Chennai, Tamil Nadu, India - 098707\n",
      "Savant Street, Kilpauk, Chennai, Tamil Nadu, India - 027036\n",
      "Das Nagar, Adyar, Chennai, Tamil Nadu, India - 172334\n"
     ]
    }
   ],
   "source": [
    "from faker import Faker\n",
    "from faker.providers import BaseProvider\n",
    "\n",
    "class ChennaiAddressProvider(BaseProvider):\n",
    "    def chennai_address(self):\n",
    "        chennai_localities = [\n",
    "            \"T. Nagar\", \"Adyar\", \"Velachery\", \"Anna Nagar\", \"Mylapore\", \"Guindy\",\n",
    "            \"Tambaram\", \"Perungudi\", \"Kodambakkam\", \"Nungambakkam\", \"Kilpauk\",\"Chrompet\"\n",
    "        ]\n",
    "        street = self.generator.street_name()\n",
    "        locality = self.random_element(chennai_localities)\n",
    "        return f\"{street}, {locality}, Chennai, Tamil Nadu, India - {self.generator.postcode()}\"\n",
    "\n",
    "fake = Faker('en_IN')\n",
    "fake.add_provider(ChennaiAddressProvider)\n",
    "\n",
    "# Example Usage\n",
    "for _ in range(100):\n",
    "    print(fake.chennai_address())\n"
   ]
  },
  {
   "cell_type": "code",
   "execution_count": null,
   "metadata": {},
   "outputs": [
    {
     "name": "stdout",
     "output_type": "stream",
     "text": [
      "Table Created Successfully!\n"
     ]
    }
   ],
   "source": [
    "TQ = \"\"\"CREATE TABLE IF NOT EXISTS  tbl_customers (\n",
    "    customer_id INT AUTO_INCREMENT PRIMARY KEY,\n",
    "    name VARCHAR(255) NOT NULL,\n",
    "    email VARCHAR(255) UNIQUE NOT NULL,\n",
    "    phone VARCHAR(20) UNIQUE NOT NULL,\n",
    "    location TEXT NOT NULL,\n",
    "    signup_date DATE NOT NULL,\n",
    "    is_premium BOOLEAN DEFAULT FALSE,\n",
    "    preferred_cuisine VARCHAR(100),\n",
    "    total_orders INT DEFAULT 0,\n",
    "    average_rating DECIMAL(3,2) CHECK (average_rating BETWEEN 0.00 AND 5.00)\n",
    ");\"\"\"\n",
    "db_obj.Execute_Query(TQ)"
   ]
  },
  {
   "cell_type": "code",
   "execution_count": null,
   "metadata": {},
   "outputs": [
    {
     "name": "stdout",
     "output_type": "stream",
     "text": [
      "Table Created Successfully!\n"
     ]
    }
   ],
   "source": [
    "TQ = \"\"\"CREATE TABLE IF NOT EXISTS tbl_restaurant (\n",
    "    restaurant_id INT AUTO_INCREMENT PRIMARY KEY,\n",
    "    name VARCHAR(255) NOT NULL,\n",
    "    cuisine_type VARCHAR(100) NOT NULL,\n",
    "    location TEXT NOT NULL,\n",
    "    owner_name VARCHAR(255) NOT NULL,\n",
    "    average_delivery_time INT CHECK (average_delivery_time >= 0),\n",
    "    contact_number VARCHAR(20) UNIQUE NOT NULL,\n",
    "    rating DECIMAL(2,1) CHECK (rating BETWEEN 1.0 AND 5.0),\n",
    "    total_orders INT DEFAULT 0,\n",
    "    is_active BOOLEAN DEFAULT TRUE\n",
    ");\"\"\"\n",
    "db_obj.Execute_Query(TQ)"
   ]
  },
  {
   "cell_type": "code",
   "execution_count": null,
   "metadata": {},
   "outputs": [
    {
     "name": "stdout",
     "output_type": "stream",
     "text": [
      "Table Created Successfully!\n"
     ]
    }
   ],
   "source": [
    "TQ=\"\"\"CREATE TABLE IF NOT EXISTS tbl_orders (\n",
    "    order_id INT AUTO_INCREMENT PRIMARY KEY,\n",
    "    customer_id INT NOT NULL,\n",
    "    restaurant_id INT NOT NULL,\n",
    "    order_date DATETIME NOT NULL,\n",
    "    delivery_time DATETIME,\n",
    "    status ENUM('Pending', 'Delivered', 'Cancelled') NOT NULL DEFAULT 'Pending',\n",
    "    total_amount DECIMAL(10,2) NOT NULL CHECK (total_amount >= 0),\n",
    "    payment_mode ENUM('Credit Card', 'Cash', 'UPI') NOT NULL,\n",
    "    discount_applied DECIMAL(10,2) DEFAULT 0 CHECK (discount_applied >= 0),\n",
    "    feedback_rating DECIMAL(2,1) CHECK (feedback_rating BETWEEN 1.0 AND 5.0),\n",
    "    FOREIGN KEY (customer_id) REFERENCES customers(customer_id) ON DELETE CASCADE,\n",
    "    FOREIGN KEY (restaurant_id) REFERENCES tbl_restaurant(restaurant_id) ON DELETE CASCADE\n",
    ");\"\"\"\n",
    "db_obj.Execute_Query(TQ)"
   ]
  },
  {
   "cell_type": "code",
   "execution_count": null,
   "metadata": {},
   "outputs": [
    {
     "name": "stdout",
     "output_type": "stream",
     "text": [
      "Table Created Successfully!\n"
     ]
    }
   ],
   "source": [
    "TQ=\"\"\"CREATE TABLE IF NOT EXISTS tbl_deliveries (\n",
    "    delivery_id INT AUTO_INCREMENT PRIMARY KEY,\n",
    "    order_id INT NOT NULL,\n",
    "    delivery_person_id INT,\n",
    "    delivery_status ENUM('On the way', 'Delivered', 'Failed') NOT NULL DEFAULT 'On the way',\n",
    "    distance DECIMAL(5,2) CHECK (distance >= 0),\n",
    "    delivery_time INT CHECK (delivery_time >= 0),\n",
    "    estimated_time INT CHECK (estimated_time >= 0),\n",
    "    delivery_fee DECIMAL(10,2) CHECK (delivery_fee >= 0),\n",
    "    vehicle_type ENUM('Bike', 'Car', 'Scooter', 'Bicycle') NOT NULL,\n",
    "    FOREIGN KEY (order_id) REFERENCES tbl_orders(order_id) ON DELETE CASCADE,\n",
    "    FOREIGN KEY (delivery_person_id) REFERENCES tbl_delivery_persons(delivery_person_id) ON DELETE SET NULL\n",
    ");\n",
    "\"\"\"\n",
    "db_obj.Execute_Query(TQ)"
   ]
  },
  {
   "cell_type": "code",
   "execution_count": null,
   "metadata": {},
   "outputs": [
    {
     "name": "stdout",
     "output_type": "stream",
     "text": [
      "Table Created Successfully!\n"
     ]
    }
   ],
   "source": [
    "TQ=\"\"\"\n",
    "CREATE TABLE IF NOT EXISTS tbl_delivery_persons (\n",
    "    delivery_person_id INT AUTO_INCREMENT PRIMARY KEY,\n",
    "    name VARCHAR(255) NOT NULL,\n",
    "    contact_number VARCHAR(20) UNIQUE NOT NULL,\n",
    "    vehicle_type ENUM('Bike', 'Car', 'Scooter', 'Bicycle') NOT NULL,\n",
    "    total_deliveries INT DEFAULT 0 CHECK (total_deliveries >= 0),\n",
    "    average_rating DECIMAL(2,1) CHECK (average_rating BETWEEN 1.0 AND 5.0),\n",
    "    location TEXT NOT NULL\n",
    ");\"\"\"\n",
    "db_obj.Execute_Query(TQ)"
   ]
  },
  {
   "cell_type": "code",
   "execution_count": 51,
   "metadata": {},
   "outputs": [
    {
     "data": {
      "text/plain": [
       "'2015-09-08'"
      ]
     },
     "execution_count": 51,
     "metadata": {},
     "output_type": "execute_result"
    }
   ],
   "source": [
    "fake.date()"
   ]
  },
  {
   "cell_type": "code",
   "execution_count": null,
   "metadata": {},
   "outputs": [],
   "source": [
    "CustTable = []\n",
    "for i in range(1,100):\n",
    "  CustTable.append((fake.name(),fake.unique.email(),fake.unique.phone_number(), fake.unique.email()))"
   ]
  }
 ],
 "metadata": {
  "kernelspec": {
   "display_name": "SAMPLEZOM",
   "language": "python",
   "name": "python3"
  },
  "language_info": {
   "codemirror_mode": {
    "name": "ipython",
    "version": 3
   },
   "file_extension": ".py",
   "mimetype": "text/x-python",
   "name": "python",
   "nbconvert_exporter": "python",
   "pygments_lexer": "ipython3",
   "version": "3.12.6"
  }
 },
 "nbformat": 4,
 "nbformat_minor": 2
}
